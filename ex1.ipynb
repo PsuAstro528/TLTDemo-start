{
  "cells": [
    {
      "cell_type": "markdown",
      "source": [
        "# TLT Demo Lab\nThis repository includes Jupyter notebooks that demonstrate a workflow for version controlling Jupyter notebooks.\n\n## The Quadratic Equation\n\nAn equation of the form $ax^2 + bx + c = 0$ has two solutions given by\n$$\\frac{-b\\pm \\sqrt{b^2-4ac}}{2a}$$\n\nIn order to gain better understanding of this, it is useful to consider the function $f(x) = ax^2 + bx + c$.  \nWe can write a *function* `f(x)` that takes one arguement `x` and returns the value of $f(x)$ using the current values of variables $a$, $b$, and $c$."
      ],
      "metadata": {}
    },
    {
      "outputs": [],
      "cell_type": "code",
      "source": [
        "function f(x) \n   return a*x^2 + b*x + c\nend"
      ],
      "metadata": {},
      "execution_count": null
    },
    {
      "cell_type": "markdown",
      "source": [
        "Now we can plot the function $f(x)$ using Julia's *Plots.jl* package."
      ],
      "metadata": {}
    },
    {
      "outputs": [],
      "cell_type": "code",
      "source": [
        "using Plots"
      ],
      "metadata": {},
      "execution_count": null
    },
    {
      "outputs": [],
      "cell_type": "code",
      "source": [
        "function plot_parabola(a,b,c; num_points=100)\n   xmin = -b/(2a)-2\n   xmax = -b/(2a)+2\n   x = range(xmin,stop=xmax,length=num_points)\n   plot(x, map(f,x), xlimits=[xmin,xmax], xlabel=\"x\", ylabel=\"y\", legend=:none)\nend"
      ],
      "metadata": {},
      "execution_count": null
    },
    {
      "outputs": [],
      "cell_type": "code",
      "source": [
        "a = 1 \nb = -3\nc = 2 \nplot_parabola(a,b,c)"
      ],
      "metadata": {},
      "execution_count": null
    },
    {
      "cell_type": "markdown",
      "source": [
        "**Q1**: What values of $x$ result in $f(x)=0$?  Store your answer in the variables `q1_root1` and `q1_root2`."
      ],
      "metadata": {}
    },
    {
      "outputs": [],
      "cell_type": "code",
      "source": [
        "# TODO: Replace with your responce to question 1.\nq1_root1 = 0\nq1_root2 = 0"
      ],
      "metadata": {},
      "execution_count": null
    },
    {
      "cell_type": "markdown",
      "source": [
        "We can rewrite $f(x)$ as $$f(x) = a(x-h)^2 + k,$$\nwhere $h = \\frac{-b}{2a}$ is the value of $x$ that minimizes $f(x)$ and $k = ah^2+bh+c$ is the value of $f(x)$ at that minimum.  Therefore, $f(x)$ describes a parabola with its vertex at $(h,k)$.  \n\n**Q2**:  Write a function named `vertex` that takes the arguments $a$, $b$ and $c$ (in that order) and returns the vertex of the parabola stored as a named pair $(x,y)$."
      ],
      "metadata": {}
    },
    {
      "outputs": [],
      "cell_type": "code",
      "source": [
        "# TODO: Update code below with your responce to question 2.\nfunction vertex(a,b,c) \n    h = 0\n    k = 0\n    return (x=h,y=k)\nend"
      ],
      "metadata": {},
      "execution_count": null
    },
    {
      "cell_type": "markdown",
      "source": [
        "Test that the result of your function matches your expectation for the function $f(x) = x^2 - 3x + 2$ based on the plot above."
      ],
      "metadata": {}
    },
    {
      "outputs": [],
      "cell_type": "code",
      "source": [
        "vertex(1,-3,2)"
      ],
      "metadata": {},
      "execution_count": null
    },
    {
      "outputs": [],
      "cell_type": "code",
      "source": [
        ""
      ],
      "metadata": {},
      "execution_count": null
    }
  ],
  "nbformat_minor": 2,
  "metadata": {
    "language_info": {
      "file_extension": ".jl",
      "mimetype": "application/julia",
      "name": "julia",
      "version": "1.4.1"
    },
    "kernelspec": {
      "name": "julia-1.4",
      "display_name": "Julia 1.4.1",
      "language": "julia"
    }
  },
  "nbformat": 4
}
