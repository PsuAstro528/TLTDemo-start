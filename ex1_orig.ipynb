{
 "cells": [
  {
   "cell_type": "markdown",
   "metadata": {},
   "source": [
    "# TLT Demo Lab\n",
    "This repository includes Jupyter notebooks that demonstrate a workflow for version controlling Jupyter notebooks.\n",
    "\n",
    "## The Quadratic Equation\n",
    "\n",
    "An equation of the form $ax^2 + bx + c = 0$ has two solutions given by\n",
    "$$\\frac{-b\\pm \\sqrt{b^2-4ac}}{2a}$$\n",
    "\n",
    "In order to gain better understanding of this, it is useful to consider the function $f(x) = ax^2 + bx + c$.  \n",
    "We can write a *function* `f(x)` that takes one arguement `x` and returns the value of $f(x)$ using the current values of variables $a$, $b$, and $c$."
   ]
  },
  {
   "cell_type": "code",
   "execution_count": null,
   "metadata": {
    "ExecuteTime": {
     "end_time": "2020-06-26T09:47:11.219000-04:00",
     "start_time": "2020-06-26T13:47:08.959Z"
    }
   },
   "outputs": [],
   "source": [
    "function f(x) \n",
    "   return a*x^2 + b*x + c\n",
    "end"
   ]
  },
  {
   "cell_type": "markdown",
   "metadata": {},
   "source": [
    "Now we can plot the function $f(x)$ using Julia's *Plots.jl* package."
   ]
  },
  {
   "cell_type": "code",
   "execution_count": null,
   "metadata": {
    "ExecuteTime": {
     "end_time": "2020-06-26T09:47:26.328000-04:00",
     "start_time": "2020-06-26T13:47:08.963Z"
    }
   },
   "outputs": [],
   "source": [
    "using Plots"
   ]
  },
  {
   "cell_type": "code",
   "execution_count": null,
   "metadata": {
    "ExecuteTime": {
     "end_time": "2020-06-26T09:47:28.117000-04:00",
     "start_time": "2020-06-26T13:47:08.966Z"
    }
   },
   "outputs": [],
   "source": [
    "function plot_parabola(a,b,c; num_points=100)\n",
    "   xmin = -b/(2a)-2\n",
    "   xmax = -b/(2a)+2\n",
    "   x = range(xmin,stop=xmax,length=num_points)\n",
    "   plot(x, map(f,x), xlimits=[xmin,xmax], xlabel=\"x\", ylabel=\"y\", legend=:none)\n",
    "end"
   ]
  },
  {
   "cell_type": "code",
   "execution_count": null,
   "metadata": {
    "ExecuteTime": {
     "end_time": "2020-06-26T09:47:40.145000-04:00",
     "start_time": "2020-06-26T13:47:08.970Z"
    }
   },
   "outputs": [],
   "source": [
    "a = 1 \n",
    "b = -3\n",
    "c = 2 \n",
    "plot_parabola(a,b,c)"
   ]
  },
  {
   "cell_type": "markdown",
   "metadata": {},
   "source": [
    "**Q1**: What values of $x$ result in $f(x)=0$?  Store your answer in the variables `q1_root1` and `q1_root2`."
   ]
  },
  {
   "cell_type": "code",
   "execution_count": null,
   "metadata": {
    "ExecuteTime": {
     "end_time": "2020-06-26T09:47:40.332000-04:00",
     "start_time": "2020-06-26T13:47:08.973Z"
    }
   },
   "outputs": [],
   "source": [
    "# TODO: Replace with your responce to question 1.\n",
    "q1_root1 = 0\n",
    "q1_root2 = 0"
   ]
  },
  {
   "cell_type": "markdown",
   "metadata": {},
   "source": [
    "We can rewrite $f(x)$ as $$f(x) = a(x-h)^2 + k,$$\n",
    "where $h = \\frac{-b}{2a}$ is the value of $x$ that minimizes $f(x)$ and $k = ah^2+bh+c$ is the value of $f(x)$ at that minimum.  Therefore, $f(x)$ describes a parabola with its vertex at $(h,k)$.  \n",
    "\n",
    "**Q2**:  Write a function named `vertex` that takes the arguments $a$, $b$ and $c$ (in that order) and returns the vertex of the parabola stored as a named pair $(x,y)$."
   ]
  },
  {
   "cell_type": "code",
   "execution_count": null,
   "metadata": {
    "ExecuteTime": {
     "end_time": "2020-06-26T09:47:40.428000-04:00",
     "start_time": "2020-06-26T13:47:08.979Z"
    }
   },
   "outputs": [],
   "source": [
    "# TODO: Update code below with your responce to question 2.\n",
    "function vertex(a,b,c) \n",
    "    h = 0\n",
    "    k = 0\n",
    "    return (x=h,y=k)\n",
    "end"
   ]
  },
  {
   "cell_type": "markdown",
   "metadata": {},
   "source": [
    "Test that the result of your function matches your expectation for the function $f(x) = x^2 - 3x + 2$ based on the plot above."
   ]
  },
  {
   "cell_type": "code",
   "execution_count": null,
   "metadata": {
    "ExecuteTime": {
     "end_time": "2020-06-26T09:47:40.750000-04:00",
     "start_time": "2020-06-26T13:47:08.982Z"
    }
   },
   "outputs": [],
   "source": [
    "vertex(1,-3,2)"
   ]
  },
  {
   "cell_type": "code",
   "execution_count": null,
   "metadata": {},
   "outputs": [],
   "source": []
  }
 ],
 "metadata": {
  "@webio": {
   "lastCommId": null,
   "lastKernelId": null
  },
  "kernelspec": {
   "display_name": "Julia 1.4.1",
   "language": "julia",
   "name": "julia-1.4"
  },
  "language_info": {
   "file_extension": ".jl",
   "mimetype": "application/julia",
   "name": "julia",
   "version": "1.4.1"
  },
  "toc": {
   "base_numbering": 1,
   "nav_menu": {},
   "number_sections": true,
   "sideBar": true,
   "skip_h1_title": false,
   "title_cell": "Table of Contents",
   "title_sidebar": "Contents",
   "toc_cell": false,
   "toc_position": {},
   "toc_section_display": true,
   "toc_window_display": false
  },
  "varInspector": {
   "cols": {
    "lenName": 16,
    "lenType": 16,
    "lenVar": 40
   },
   "kernels_config": {
    "python": {
     "delete_cmd_postfix": "",
     "delete_cmd_prefix": "del ",
     "library": "var_list.py",
     "varRefreshCmd": "print(var_dic_list())"
    },
    "r": {
     "delete_cmd_postfix": ") ",
     "delete_cmd_prefix": "rm(",
     "library": "var_list.r",
     "varRefreshCmd": "cat(var_dic_list()) "
    }
   },
   "types_to_exclude": [
    "module",
    "function",
    "builtin_function_or_method",
    "instance",
    "_Feature"
   ],
   "window_display": false
  }
 },
 "nbformat": 4,
 "nbformat_minor": 2
}
