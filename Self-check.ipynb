{
 "cells": [
  {
   "cell_type": "markdown",
   "metadata": {
    "ExecuteTime": {
     "end_time": "2020-06-26T09:47:23.403000-04:00",
     "start_time": "2020-06-26T13:47:23.402Z"
    }
   },
   "source": [
    "# Notebook demonstrating how students can run tests\n",
    "One bonus of using Jupyter notebooks is that they can include automated *tests*.  These can be used by:\n",
    " - Students to get instantenous feedback on their responces, \n",
    " - Teachers to automated (at least a portion of) the grading, or\n",
    " - Both!\n",
    " \n",
    " First, we need to load a package, *NBInclude* that is able to parse Jupyter notebooks."
   ]
  },
  {
   "cell_type": "code",
   "execution_count": 1,
   "metadata": {
    "ExecuteTime": {
     "end_time": "2020-06-26T13:01:58.106000-04:00",
     "start_time": "2020-06-26T17:01:56.474Z"
    }
   },
   "outputs": [],
   "source": [
    "using NBInclude"
   ]
  },
  {
   "cell_type": "markdown",
   "metadata": {},
   "source": [
    "Next, we read in a the Jupyter notebook that includes a set of correct responses to both questions in exercise 1."
   ]
  },
  {
   "cell_type": "code",
   "execution_count": 2,
   "metadata": {
    "ExecuteTime": {
     "end_time": "2020-06-26T13:02:18.846000-04:00",
     "start_time": "2020-06-26T17:01:57.218Z"
    }
   },
   "outputs": [],
   "source": [
    "@nbinclude(\"ex1.ipynb\");"
   ]
  },
  {
   "cell_type": "markdown",
   "metadata": {},
   "source": [
    "Now, we run the tests that are provided by the instructor."
   ]
  },
  {
   "cell_type": "code",
   "execution_count": 3,
   "metadata": {
    "ExecuteTime": {
     "end_time": "2020-06-26T13:02:45.373000-04:00",
     "start_time": "2020-06-26T17:02:42.492Z"
    }
   },
   "outputs": [
    {
     "name": "stdout",
     "output_type": "stream",
     "text": [
      "\u001b[37m\u001b[1mTest Summary:          | \u001b[22m\u001b[39m\u001b[32m\u001b[1mPass  \u001b[22m\u001b[39m\u001b[36m\u001b[1mTotal\u001b[22m\u001b[39m\n",
      "Testing solution to Q1 | \u001b[32m   1  \u001b[39m\u001b[36m    1\u001b[39m\n",
      "\u001b[37m\u001b[1mTest Summary:          | \u001b[22m\u001b[39m\u001b[32m\u001b[1mPass  \u001b[22m\u001b[39m\u001b[36m\u001b[1mTotal\u001b[22m\u001b[39m\n",
      "Testing solution to Q2 | \u001b[32m   6  \u001b[39m\u001b[36m    6\u001b[39m\n"
     ]
    }
   ],
   "source": [
    "include(\"test/test1.jl\");"
   ]
  },
  {
   "cell_type": "markdown",
   "metadata": {},
   "source": [
    "In this case the student or instructor can quickly see that the student's notebook passed all the predefined tests.  \n",
    "Hurray!"
   ]
  },
  {
   "cell_type": "markdown",
   "metadata": {},
   "source": [
    "Once the student is happy with their notebook, they can convert it into a markdown document using the [Weave](https://github.com/JunoLab/Weave.jl) package.  While Weave is designed for [*julia*](https://julialang.org/) code, there are other tools and packages for converting between Jupyter and markdown that are language agnostic (e.g., [*nbconvert*](https://nbconvert.readthedocs.io/en/latest/)."
   ]
  },
  {
   "cell_type": "code",
   "execution_count": 4,
   "metadata": {
    "ExecuteTime": {
     "end_time": "2020-06-26T13:02:47.171000-04:00",
     "start_time": "2020-06-26T17:02:46.387Z"
    }
   },
   "outputs": [],
   "source": [
    "using Weave"
   ]
  },
  {
   "cell_type": "code",
   "execution_count": null,
   "metadata": {
    "ExecuteTime": {
     "end_time": "2020-06-26T12:45:44.998000-04:00",
     "start_time": "2020-06-26T16:45:16.245Z"
    }
   },
   "outputs": [],
   "source": [
    "convert_doc(\"ex1.ipynb\",\"ex1.jmd\")"
   ]
  },
  {
   "cell_type": "markdown",
   "metadata": {},
   "source": [
    "Now the student can commit their responses to their local repository.  This can be done from the command line via\n",
    "```sh\n",
    "git add ex1.*\n",
    "git commit -m \"completed ex1\"\n",
    "```\n",
    "Once they've completed the assignment, they and push the updated files in their local repository to GitHub\n",
    "```sh\n",
    "git push\n",
    "```\n",
    "Alternatively, there are IDEs and GUIs that allow students to use git without needing to use the command line interface.  Once the student has pushed their files and is ready to submit the assignment, they initial a pull request from the GitHub webpage for their private repository."
   ]
  },
  {
   "cell_type": "code",
   "execution_count": null,
   "metadata": {},
   "outputs": [],
   "source": []
  }
 ],
 "metadata": {
  "@webio": {
   "lastCommId": null,
   "lastKernelId": null
  },
  "kernelspec": {
   "display_name": "Julia 1.4.1",
   "language": "julia",
   "name": "julia-1.4"
  },
  "language_info": {
   "file_extension": ".jl",
   "mimetype": "application/julia",
   "name": "julia",
   "version": "1.4.1"
  },
  "toc": {
   "base_numbering": 1,
   "nav_menu": {},
   "number_sections": true,
   "sideBar": true,
   "skip_h1_title": false,
   "title_cell": "Table of Contents",
   "title_sidebar": "Contents",
   "toc_cell": false,
   "toc_position": {},
   "toc_section_display": true,
   "toc_window_display": false
  },
  "varInspector": {
   "cols": {
    "lenName": 16,
    "lenType": 16,
    "lenVar": 40
   },
   "kernels_config": {
    "python": {
     "delete_cmd_postfix": "",
     "delete_cmd_prefix": "del ",
     "library": "var_list.py",
     "varRefreshCmd": "print(var_dic_list())"
    },
    "r": {
     "delete_cmd_postfix": ") ",
     "delete_cmd_prefix": "rm(",
     "library": "var_list.r",
     "varRefreshCmd": "cat(var_dic_list()) "
    }
   },
   "types_to_exclude": [
    "module",
    "function",
    "builtin_function_or_method",
    "instance",
    "_Feature"
   ],
   "window_display": false
  }
 },
 "nbformat": 4,
 "nbformat_minor": 4
}
