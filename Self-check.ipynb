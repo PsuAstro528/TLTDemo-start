{
 "cells": [
  {
   "cell_type": "markdown",
   "metadata": {
    "ExecuteTime": {
     "end_time": "2020-06-26T09:47:23.403000-04:00",
     "start_time": "2020-06-26T13:47:23.402Z"
    }
   },
   "source": [
    "# Notebook demonstrating how students can run tests\n",
    "One bonus of using Jupyter notebooks is that they can include automated *tests*.  These can be used by:\n",
    " - Students to get instantenous feedback on their responces, \n",
    " - Teachers to automated (at least a portion of) the grading, or\n",
    " - Both!\n",
    " \n",
    " First, we need to load a package, *NBInclude* that is able to parse Jupyter notebooks."
   ]
  },
  {
   "cell_type": "code",
   "execution_count": 1,
   "metadata": {
    "ExecuteTime": {
     "end_time": "2020-06-26T12:42:56.415000-04:00",
     "start_time": "2020-06-26T16:42:54.566Z"
    }
   },
   "outputs": [],
   "source": [
    "using NBInclude"
   ]
  },
  {
   "cell_type": "markdown",
   "metadata": {},
   "source": [
    "First, we'll read in the original notebook, which did not include correct student responses."
   ]
  },
  {
   "cell_type": "code",
   "execution_count": 2,
   "metadata": {
    "ExecuteTime": {
     "end_time": "2020-06-26T12:43:17.889000-04:00",
     "start_time": "2020-06-26T16:42:55.488Z"
    }
   },
   "outputs": [],
   "source": [
    "@nbinclude(\"ex1.ipynb\");"
   ]
  },
  {
   "cell_type": "markdown",
   "metadata": {},
   "source": [
    "Now, we'll run the tests that have been defined in the file ```test/test1.jl```."
   ]
  },
  {
   "cell_type": "code",
   "execution_count": 3,
   "metadata": {
    "ExecuteTime": {
     "end_time": "2020-06-26T12:43:23.675000-04:00",
     "start_time": "2020-06-26T16:42:56.263Z"
    }
   },
   "outputs": [
    {
     "name": "stdout",
     "output_type": "stream",
     "text": [
      "\u001b[37mTesting solution to Q1: \u001b[39m\u001b[91m\u001b[1mTest Failed\u001b[22m\u001b[39m at \u001b[39m\u001b[1m/home/eford/Teach/Astro528/Spring2019/exercises/TLTDemo-start/test/test1.jl:5\u001b[22m\n",
      "  Expression: q1_root1 == 1 && q1_root2 == 2 || q1_root1 == 2 && q1_root2 == 1\n",
      "Stacktrace:\n",
      " [1] top-level scope at \u001b[1m/home/eford/Teach/Astro528/Spring2019/exercises/TLTDemo-start/test/test1.jl:5\u001b[22m\n",
      " [2] top-level scope at \u001b[1m/buildworker/worker/package_linux64/build/usr/share/julia/stdlib/v1.4/Test/src/Test.jl:1113\u001b[22m\n",
      " [3] top-level scope at \u001b[1m/home/eford/Teach/Astro528/Spring2019/exercises/TLTDemo-start/test/test1.jl:5\u001b[22m\n",
      "\u001b[37m\u001b[1mTest Summary:          | \u001b[22m\u001b[39m\u001b[91m\u001b[1mFail  \u001b[22m\u001b[39m\u001b[36m\u001b[1mTotal\u001b[22m\u001b[39m\n",
      "Testing solution to Q1 | \u001b[91m   1  \u001b[39m\u001b[36m    1\u001b[39m\n",
      "\u001b[37mTesting solution to Q2: \u001b[39m\u001b[91m\u001b[1mTest Failed\u001b[22m\u001b[39m at \u001b[39m\u001b[1m/home/eford/Teach/Astro528/Spring2019/exercises/TLTDemo-start/test/test1.jl:12\u001b[22m\n",
      "  Expression: (vertex(1, -3, 2)).x ≈ 1.5\n",
      "   Evaluated: 0 ≈ 1.5\n",
      "Stacktrace:\n",
      " [1] top-level scope at \u001b[1m/home/eford/Teach/Astro528/Spring2019/exercises/TLTDemo-start/test/test1.jl:12\u001b[22m\n",
      " [2] top-level scope at \u001b[1m/buildworker/worker/package_linux64/build/usr/share/julia/stdlib/v1.4/Test/src/Test.jl:1113\u001b[22m\n",
      " [3] top-level scope at \u001b[1m/home/eford/Teach/Astro528/Spring2019/exercises/TLTDemo-start/test/test1.jl:12\u001b[22m\n",
      "\u001b[37mTesting solution to Q2: \u001b[39m\u001b[91m\u001b[1mTest Failed\u001b[22m\u001b[39m at \u001b[39m\u001b[1m/home/eford/Teach/Astro528/Spring2019/exercises/TLTDemo-start/test/test1.jl:13\u001b[22m\n",
      "  Expression: (vertex(1, -3, 2)).y ≈ -0.25\n",
      "   Evaluated: 0 ≈ -0.25\n",
      "Stacktrace:\n",
      " [1] top-level scope at \u001b[1m/home/eford/Teach/Astro528/Spring2019/exercises/TLTDemo-start/test/test1.jl:13\u001b[22m\n",
      " [2] top-level scope at \u001b[1m/buildworker/worker/package_linux64/build/usr/share/julia/stdlib/v1.4/Test/src/Test.jl:1113\u001b[22m\n",
      " [3] top-level scope at \u001b[1m/home/eford/Teach/Astro528/Spring2019/exercises/TLTDemo-start/test/test1.jl:12\u001b[22m\n",
      "\u001b[37mTesting solution to Q2: \u001b[39m\u001b[91m\u001b[1mTest Failed\u001b[22m\u001b[39m at \u001b[39m\u001b[1m/home/eford/Teach/Astro528/Spring2019/exercises/TLTDemo-start/test/test1.jl:14\u001b[22m\n",
      "  Expression: (vertex(1, -3, 4)).x ≈ 1.5\n",
      "   Evaluated: 0 ≈ 1.5\n",
      "Stacktrace:\n",
      " [1] top-level scope at \u001b[1m/home/eford/Teach/Astro528/Spring2019/exercises/TLTDemo-start/test/test1.jl:14\u001b[22m\n",
      " [2] top-level scope at \u001b[1m/buildworker/worker/package_linux64/build/usr/share/julia/stdlib/v1.4/Test/src/Test.jl:1113\u001b[22m\n",
      " [3] top-level scope at \u001b[1m/home/eford/Teach/Astro528/Spring2019/exercises/TLTDemo-start/test/test1.jl:12\u001b[22m\n",
      "\u001b[37mTesting solution to Q2: \u001b[39m\u001b[91m\u001b[1mTest Failed\u001b[22m\u001b[39m at \u001b[39m\u001b[1m/home/eford/Teach/Astro528/Spring2019/exercises/TLTDemo-start/test/test1.jl:15\u001b[22m\n",
      "  Expression: (vertex(1, -3, 4)).y ≈ 1.75\n",
      "   Evaluated: 0 ≈ 1.75\n",
      "Stacktrace:\n",
      " [1] top-level scope at \u001b[1m/home/eford/Teach/Astro528/Spring2019/exercises/TLTDemo-start/test/test1.jl:15\u001b[22m\n",
      " [2] top-level scope at \u001b[1m/buildworker/worker/package_linux64/build/usr/share/julia/stdlib/v1.4/Test/src/Test.jl:1113\u001b[22m\n",
      " [3] top-level scope at \u001b[1m/home/eford/Teach/Astro528/Spring2019/exercises/TLTDemo-start/test/test1.jl:12\u001b[22m\n",
      "\u001b[37mTesting solution to Q2: \u001b[39m\u001b[91m\u001b[1mTest Failed\u001b[22m\u001b[39m at \u001b[39m\u001b[1m/home/eford/Teach/Astro528/Spring2019/exercises/TLTDemo-start/test/test1.jl:16\u001b[22m\n",
      "  Expression: (vertex(2, -3, 2.125)).x ≈ 0.75\n",
      "   Evaluated: 0 ≈ 0.75\n",
      "Stacktrace:\n",
      " [1] top-level scope at \u001b[1m/home/eford/Teach/Astro528/Spring2019/exercises/TLTDemo-start/test/test1.jl:16\u001b[22m\n",
      " [2] top-level scope at \u001b[1m/buildworker/worker/package_linux64/build/usr/share/julia/stdlib/v1.4/Test/src/Test.jl:1113\u001b[22m\n",
      " [3] top-level scope at \u001b[1m/home/eford/Teach/Astro528/Spring2019/exercises/TLTDemo-start/test/test1.jl:12\u001b[22m\n",
      "\u001b[37mTesting solution to Q2: \u001b[39m\u001b[91m\u001b[1mTest Failed\u001b[22m\u001b[39m at \u001b[39m\u001b[1m/home/eford/Teach/Astro528/Spring2019/exercises/TLTDemo-start/test/test1.jl:17\u001b[22m\n",
      "  Expression: (vertex(2, -3, 2.125)).y ≈ 1.0\n",
      "   Evaluated: 0 ≈ 1.0\n",
      "Stacktrace:\n",
      " [1] top-level scope at \u001b[1m/home/eford/Teach/Astro528/Spring2019/exercises/TLTDemo-start/test/test1.jl:17\u001b[22m\n",
      " [2] top-level scope at \u001b[1m/buildworker/worker/package_linux64/build/usr/share/julia/stdlib/v1.4/Test/src/Test.jl:1113\u001b[22m\n",
      " [3] top-level scope at \u001b[1m/home/eford/Teach/Astro528/Spring2019/exercises/TLTDemo-start/test/test1.jl:12\u001b[22m\n",
      "\u001b[37m\u001b[1mTest Summary:          | \u001b[22m\u001b[39m\u001b[91m\u001b[1mFail  \u001b[22m\u001b[39m\u001b[36m\u001b[1mTotal\u001b[22m\u001b[39m\n",
      "Testing solution to Q2 | \u001b[91m   6  \u001b[39m\u001b[36m    6\u001b[39m\n"
     ]
    }
   ],
   "source": [
    "include(\"test/test1.jl\");"
   ]
  },
  {
   "cell_type": "markdown",
   "metadata": {
    "ExecuteTime": {
     "end_time": "2020-06-26T09:55:07.600000-04:00",
     "start_time": "2020-06-26T13:55:07.593Z"
    }
   },
   "source": [
    "The student can clearly see that their notebook does not pass the tests. Additionally, it shows which tests failed and why.  \n",
    "The information below ```Stacktracte``` can be used to isolate the location in the notebook where the that occured.  Alternatively, non-programming students can ignore that."
   ]
  },
  {
   "cell_type": "markdown",
   "metadata": {},
   "source": [
    "For an example of tests that pass, see this [same file in the *completed* branch](https://github.com/PsuAstro528/TLTDemo-start/blob/completed/Self-check.ipynb). "
   ]
  },
  {
   "cell_type": "code",
   "execution_count": null,
   "metadata": {},
   "outputs": [],
   "source": []
  }
 ],
 "metadata": {
  "@webio": {
   "lastCommId": null,
   "lastKernelId": null
  },
  "kernelspec": {
   "display_name": "Julia 1.4.1",
   "language": "julia",
   "name": "julia-1.4"
  },
  "language_info": {
   "file_extension": ".jl",
   "mimetype": "application/julia",
   "name": "julia",
   "version": "1.4.1"
  },
  "toc": {
   "base_numbering": 1,
   "nav_menu": {},
   "number_sections": true,
   "sideBar": true,
   "skip_h1_title": false,
   "title_cell": "Table of Contents",
   "title_sidebar": "Contents",
   "toc_cell": false,
   "toc_position": {},
   "toc_section_display": true,
   "toc_window_display": false
  },
  "varInspector": {
   "cols": {
    "lenName": 16,
    "lenType": 16,
    "lenVar": 40
   },
   "kernels_config": {
    "python": {
     "delete_cmd_postfix": "",
     "delete_cmd_prefix": "del ",
     "library": "var_list.py",
     "varRefreshCmd": "print(var_dic_list())"
    },
    "r": {
     "delete_cmd_postfix": ") ",
     "delete_cmd_prefix": "rm(",
     "library": "var_list.r",
     "varRefreshCmd": "cat(var_dic_list()) "
    }
   },
   "types_to_exclude": [
    "module",
    "function",
    "builtin_function_or_method",
    "instance",
    "_Feature"
   ],
   "window_display": false
  }
 },
 "nbformat": 4,
 "nbformat_minor": 4
}
